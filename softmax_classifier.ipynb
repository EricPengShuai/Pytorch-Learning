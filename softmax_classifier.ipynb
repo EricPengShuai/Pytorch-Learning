{
 "metadata": {
  "language_info": {
   "codemirror_mode": {
    "name": "ipython",
    "version": 3
   },
   "file_extension": ".py",
   "mimetype": "text/x-python",
   "name": "python",
   "nbconvert_exporter": "python",
   "pygments_lexer": "ipython3",
   "version": "3.6.12-final"
  },
  "orig_nbformat": 2,
  "kernelspec": {
   "name": "python3",
   "display_name": "Python 3.6.12 64-bit ('pytorch_dl': conda)",
   "metadata": {
    "interpreter": {
     "hash": "6b962ed846ab7a2f9c4286c5c9f447c6ba721d3b496bd62adf19906831909870"
    }
   }
  }
 },
 "nbformat": 4,
 "nbformat_minor": 2,
 "cells": [
  {
   "source": [
    "来源： [b站刘二大人--多分类问题](https://www.bilibili.com/video/BV1Y7411d7Ys?p=9)\n",
    "# 0. Test CrossEntropyLoss"
   ],
   "cell_type": "markdown",
   "metadata": {}
  },
  {
   "source": [
    "import torch\n",
    "criterion = torch.nn.CrossEntropyLoss()\n",
    "Y = torch.LongTensor([2, 0, 1])\n",
    "\n",
    "Y_pred1 = torch.Tensor([\n",
    "    [0.1, 0.2, 0.9],\n",
    "    [1.1, 0.1, 0.2],\n",
    "    [0.2, 2.1, 0.1]\n",
    "])\n",
    "Y_pred2 = torch.Tensor([\n",
    "    [0.8, 0.2, 0.3],\n",
    "    [0.2, 0.3, 0.5],\n",
    "    [0.2, 0.2, 0.5]\n",
    "])\n",
    "\n",
    "l1 = criterion(Y_pred1, Y)\n",
    "l2 = criterion(Y_pred2, Y)\n",
    "print(\"Batch Loss1 = \", l1.data)\n",
    "print(\"Batch Loss2 = \", l2.data)"
   ],
   "cell_type": "code",
   "metadata": {},
   "execution_count": 1,
   "outputs": [
    {
     "output_type": "stream",
     "name": "stdout",
     "text": [
      "Batch Loss1 =  tensor(0.4966)\nBatch Loss2 =  tensor(1.2389)\n"
     ]
    }
   ]
  },
  {
   "source": [
    "# 1. Implementation for MINIST\n",
    "## 1.1 Prepare Dataset"
   ],
   "cell_type": "markdown",
   "metadata": {}
  },
  {
   "source": [
    "import torch\n",
    "from torchvision import transforms\n",
    "from torchvision import datasets\n",
    "from torch.utils.data import DataLoader\n",
    "import torch.nn.functional as F\n",
    "import torch.optim as optim\n",
    "\n",
    "batch_size = 64\n",
    "transform = transforms.Compose([\n",
    "    transforms.ToTensor(), \n",
    "    transforms.Normalize((0.1307,), (0.3081,))\n",
    "]) # 归一化,均值和方差\n",
    " \n",
    "train_dataset = datasets.MNIST(root='./dataset/mnist/', train=True, download=True, transform=transform)\n",
    "train_loader = DataLoader(train_dataset, shuffle=True, batch_size=batch_size)\n",
    "test_dataset = datasets.MNIST(root='./dataset/mnist/', train=False, download=True, transform=transform)\n",
    "test_loader = DataLoader(test_dataset, shuffle=False, batch_size=batch_size)"
   ],
   "cell_type": "code",
   "metadata": {},
   "execution_count": 2,
   "outputs": []
  },
  {
   "source": [
    "## 1.2 Design Model"
   ],
   "cell_type": "markdown",
   "metadata": {}
  },
  {
   "cell_type": "code",
   "execution_count": 3,
   "metadata": {},
   "outputs": [],
   "source": [
    "class Net(torch.nn.Module):\n",
    "    def __init__(self):\n",
    "        super(Net, self).__init__()\n",
    "        self.l1 = torch.nn.Linear(784, 512)\n",
    "        self.l2 = torch.nn.Linear(512, 256)\n",
    "        self.l3 = torch.nn.Linear(256, 128)\n",
    "        self.l4 = torch.nn.Linear(128, 64)\n",
    "        self.l5 = torch.nn.Linear(64, 10)\n",
    "\n",
    "    def forward(self, x):\n",
    "        x = x.view(-1, 784)\n",
    "        x = F.relu(self.l1(x))\n",
    "        x = F.relu(self.l2(x))\n",
    "        x = F.relu(self.l3(x))\n",
    "        x = F.relu(self.l4(x))\n",
    "        # 最后一层不需要激活，注意CrossEntropyLoss包含了logSoftmax+NLLloss\n",
    "        return self.l5(x)\n",
    "\n",
    "model = Net()\n"
   ]
  },
  {
   "source": [
    "## 1.3 Construct Loss ans Optimizer"
   ],
   "cell_type": "markdown",
   "metadata": {}
  },
  {
   "cell_type": "code",
   "execution_count": 5,
   "metadata": {},
   "outputs": [
    {
     "output_type": "stream",
     "name": "stdout",
     "text": [
      "<torch.utils.data.dataloader.DataLoader object at 0x7f82a47ae828>\n<torch.utils.data.dataloader.DataLoader object at 0x7f82a5f79898>\n<generator object Module.parameters at 0x7f82a5f56d58>\nlayer1_weight.shape torch.Size([512, 784])\nlayer1_bias.shape torch.Size([512])\nlayer2_weight.shape torch.Size([256, 512])\nlayer2_bias.shape torch.Size([256])\n"
     ]
    }
   ],
   "source": [
    "# 查看模型参数shape\n",
    "\n",
    "print(train_loader)\n",
    "print(test_loader)\n",
    "print(model.parameters())\n",
    "# 参数说明\n",
    "# 第一层的参数：\n",
    "layer1_weight = model.l1.weight.data\n",
    "layer1_bias = model.l1.bias.data\n",
    "# print(\"layer1_weight\", layer1_weight)\n",
    "print(\"layer1_weight.shape\", layer1_weight.shape)\n",
    "# print(\"layer1_bias\", layer1_bias)\n",
    "print(\"layer1_bias.shape\", layer1_bias.shape)\n",
    "\n",
    "print(\"layer2_weight.shape\", model.l2.weight.data.shape)\n",
    "print(\"layer2_bias.shape\", model.l2.bias.data.shape)\n",
    "\n",
    "criterion = torch.nn.CrossEntropyLoss()\n",
    "optimizer = optim.SGD(model.parameters(), lr=0.01, momentum=0.5)"
   ]
  },
  {
   "source": [
    "## 1.4 Train and Test"
   ],
   "cell_type": "markdown",
   "metadata": {}
  },
  {
   "cell_type": "code",
   "execution_count": 6,
   "metadata": {
    "tags": []
   },
   "outputs": [
    {
     "output_type": "stream",
     "name": "stdout",
     "text": [
      "[1,   300] loss: 2.260\n",
      "[1,   600] loss: 1.088\n",
      "[1,   900] loss: 0.429\n",
      "accuracy on test set: 89 % \n",
      "[2,   300] loss: 0.319\n",
      "[2,   600] loss: 0.264\n",
      "[2,   900] loss: 0.228\n",
      "accuracy on test set: 94 % \n",
      "[3,   300] loss: 0.187\n",
      "[3,   600] loss: 0.165\n",
      "[3,   900] loss: 0.157\n",
      "accuracy on test set: 95 % \n",
      "[4,   300] loss: 0.130\n",
      "[4,   600] loss: 0.126\n",
      "[4,   900] loss: 0.115\n",
      "accuracy on test set: 96 % \n",
      "[5,   300] loss: 0.096\n",
      "[5,   600] loss: 0.095\n",
      "[5,   900] loss: 0.099\n",
      "accuracy on test set: 96 % \n"
     ]
    }
   ],
   "source": [
    "def train(epoch):\n",
    "    running_loss = 0.0\n",
    "    for batch_idx, data in enumerate(train_loader, 0):\n",
    "        inputs, target = data\n",
    "        optimizer.zero_grad()\n",
    "\n",
    "        # forward + backward + update\n",
    "        outputs = model(inputs)\n",
    "        loss = criterion(outputs, target)\n",
    "        loss.backward()\n",
    "        optimizer.step()\n",
    "\n",
    "        running_loss += loss.item()\n",
    "        if batch_idx % 300 == 299:\n",
    "            print('[%d, %5d] loss: %.3f' % (epoch+1, batch_idx+1, running_loss/300))\n",
    "            running_loss = 0.0\n",
    " \n",
    " \n",
    "def test():\n",
    "    correct = 0\n",
    "    total = 0\n",
    "    with torch.no_grad():\n",
    "        for data in test_loader:\n",
    "            images, labels = data\n",
    "            outputs = model(images)\n",
    "            _, predicted = torch.max(outputs.data, dim=1) # dim = 1 列是第0个维度，行是第1个维度\n",
    "            total += labels.size(0)\n",
    "            correct += (predicted == labels).sum().item() # 张量之间的比较运算\n",
    "    print('accuracy on test set: %d %% ' % (100*correct/total))\n",
    "\n",
    "for epoch in range(5):\n",
    "    train(epoch)\n",
    "    test()\n"
   ]
  },
  {
   "source": [
    "## 1.5 理解维度"
   ],
   "cell_type": "markdown",
   "metadata": {}
  },
  {
   "cell_type": "code",
   "execution_count": 7,
   "metadata": {},
   "outputs": [
    {
     "output_type": "stream",
     "name": "stdout",
     "text": [
      "target.shape torch.Size([64]) tensor([6, 2, 0, 6, 5, 8, 0, 6, 1, 4, 1, 7, 7, 0, 7, 3, 0, 1, 0, 7, 4, 2, 2, 5,\n        7, 2, 6, 3, 2, 9, 7, 2, 3, 4, 1, 3, 0, 8, 3, 7, 6, 7, 5, 1, 8, 2, 3, 8,\n        4, 2, 5, 4, 5, 0, 8, 0, 7, 3, 2, 6, 2, 7, 7, 5])\noutput.shape torch.Size([64, 10]) tensor([ 0.0467,  0.1483,  0.0750, -0.0185, -0.0073,  0.0327,  0.0647,  0.0828,\n         0.0023, -0.0072], grad_fn=<SelectBackward>)\n"
     ]
    }
   ],
   "source": [
    "\n",
    "for batch_idx, data in enumerate(train_loader, 0):\n",
    "    inputs, target = data\n",
    "    optimizer.zero_grad()\n",
    "    print(\"target.shape\", target.shape, target)\n",
    "    # forward + backward + update\n",
    "    outputs = model(inputs)\n",
    "    print(\"output.shape\", outputs.shape, outputs[0])\n",
    "    break\n",
    "    loss = criterion(outputs, target)\n",
    "    loss.backward()\n",
    "    optimizer.step()\n",
    "\n",
    "    running_loss += loss.item()\n",
    "    if batch_idx % 300 == 299:\n",
    "        print('[%d, %5d] loss: %.3f' % (epoch+1, batch_idx+1, running_loss/300))\n",
    "        running_loss = 0.0"
   ]
  },
  {
   "cell_type": "code",
   "execution_count": null,
   "metadata": {},
   "outputs": [],
   "source": []
  }
 ]
}